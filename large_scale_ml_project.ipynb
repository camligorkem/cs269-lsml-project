{
  "nbformat": 4,
  "nbformat_minor": 0,
  "metadata": {
    "colab": {
      "name": "large scale ml project.ipynb",
      "provenance": [],
      "collapsed_sections": []
    },
    "kernelspec": {
      "name": "python3",
      "display_name": "Python 3"
    },
    "language_info": {
      "name": "python"
    }
  },
  "cells": [
    {
      "cell_type": "markdown",
      "metadata": {
        "id": "-xR3_qAf-V-9"
      },
      "source": [
        "## Example on how to run experiments with Colab and Github saving results to Drive"
      ]
    },
    {
      "cell_type": "markdown",
      "metadata": {
        "id": "i04QyD3oIiuw"
      },
      "source": [
        "https://medium.com/analytics-vidhya/how-to-use-google-colab-with-github-via-google-drive-68efb23a42d"
      ]
    },
    {
      "cell_type": "code",
      "metadata": {
        "id": "-dNvAfu7IeCb"
      },
      "source": [
        "from google.colab import drive\n",
        "drive.mount('/content/drive')"
      ],
      "execution_count": null,
      "outputs": []
    },
    {
      "cell_type": "code",
      "metadata": {
        "id": "4LQ7sI_4Iz8G"
      },
      "source": [
        "%cd /content/drive/MyDrive/Github/lth"
      ],
      "execution_count": null,
      "outputs": []
    },
    {
      "cell_type": "code",
      "metadata": {
        "id": "atIRNyBkJnH0"
      },
      "source": [
        "acces_token = 'put github access token here'\n",
        "repo = 'cs269-lsml-project'"
      ],
      "execution_count": null,
      "outputs": []
    },
    {
      "cell_type": "code",
      "metadata": {
        "id": "3XgyO95qJAWn"
      },
      "source": [
        "!git clone https://{acces_token}@github.com/camligorkem/{repo}.git"
      ],
      "execution_count": null,
      "outputs": []
    },
    {
      "cell_type": "code",
      "metadata": {
        "id": "CW58JYkgJAfc"
      },
      "source": [
        "%cd {repo}"
      ],
      "execution_count": null,
      "outputs": []
    },
    {
      "cell_type": "code",
      "metadata": {
        "id": "Ijb66qqIOKC-"
      },
      "source": [
        "!git checkout gorkem/exp1-adverserial-ratios"
      ],
      "execution_count": null,
      "outputs": []
    },
    {
      "cell_type": "code",
      "metadata": {
        "id": "H4C0uupiKAZb"
      },
      "source": [
        "%ls -a"
      ],
      "execution_count": null,
      "outputs": []
    },
    {
      "cell_type": "code",
      "metadata": {
        "id": "4KuJRb30KCLn"
      },
      "source": [
        "!pip install deeprobust"
      ],
      "execution_count": null,
      "outputs": []
    },
    {
      "cell_type": "code",
      "metadata": {
        "id": "RpKzU9GSKSir"
      },
      "source": [
        "!python3 main.py --prune_type=lt --arch_type=fc1 --dataset=mnist_fgsm_attack --prune_percent=10 --prune_iterations=35 --end_iter=12 --attack_rate=10"
      ],
      "execution_count": null,
      "outputs": []
    },
    {
      "cell_type": "code",
      "metadata": {
        "id": "cFcvdRJvTZRR"
      },
      "source": [
        "!python3 main.py --prune_type=lt --arch_type=fc1 --dataset=mnist_fgsm_attack --prune_percent=10 --prune_iterations=35 --end_iter=12 --attack_rate=20"
      ],
      "execution_count": null,
      "outputs": []
    },
    {
      "cell_type": "code",
      "metadata": {
        "id": "ERFPtPgQTZh6"
      },
      "source": [
        "!python3 main.py --prune_type=lt --arch_type=fc1 --dataset=mnist_fgsm_attack --prune_percent=10 --prune_iterations=35 --end_iter=12 --attack_rate=30"
      ],
      "execution_count": null,
      "outputs": []
    }
  ]
}